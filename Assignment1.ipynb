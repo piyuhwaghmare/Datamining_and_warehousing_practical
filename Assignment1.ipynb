{
  "nbformat": 4,
  "nbformat_minor": 0,
  "metadata": {
    "colab": {
      "provenance": [],
      "authorship_tag": "ABX9TyNmIeVInGQ5cpzbuBw6PYh1",
      "include_colab_link": true
    },
    "kernelspec": {
      "name": "python3",
      "display_name": "Python 3"
    },
    "language_info": {
      "name": "python"
    }
  },
  "cells": [
    {
      "cell_type": "markdown",
      "metadata": {
        "id": "view-in-github",
        "colab_type": "text"
      },
      "source": [
        "<a href=\"https://colab.research.google.com/github/piyuhwaghmare/Datamining_and_warehousing_practical/blob/main/Assignment1.ipynb\" target=\"_parent\"><img src=\"https://colab.research.google.com/assets/colab-badge.svg\" alt=\"Open In Colab\"/></a>"
      ]
    },
    {
      "cell_type": "code",
      "execution_count": 30,
      "metadata": {
        "colab": {
          "base_uri": "https://localhost:8080/"
        },
        "id": "hXMfo-gQk7S_",
        "outputId": "ca400dfc-38fa-4291-b272-8d9ee41e1ac5"
      },
      "outputs": [
        {
          "output_type": "stream",
          "name": "stdout",
          "text": [
            "   PassengerId  Survived  Pclass  \\\n",
            "0          892         0       3   \n",
            "1          893         1       3   \n",
            "2          894         0       2   \n",
            "3          895         0       3   \n",
            "4          896         1       3   \n",
            "\n",
            "                                           Name     Sex   Age  SibSp  Parch  \\\n",
            "0                              Kelly, Mr. James    male  34.5      0      0   \n",
            "1              Wilkes, Mrs. James (Ellen Needs)  female  47.0      1      0   \n",
            "2                     Myles, Mr. Thomas Francis    male  62.0      0      0   \n",
            "3                              Wirz, Mr. Albert    male  27.0      0      0   \n",
            "4  Hirvonen, Mrs. Alexander (Helga E Lindqvist)  female  22.0      1      1   \n",
            "\n",
            "    Ticket     Fare Cabin Embarked  \n",
            "0   330911   7.8292   NaN        Q  \n",
            "1   363272   7.0000   NaN        S  \n",
            "2   240276   9.6875   NaN        Q  \n",
            "3   315154   8.6625   NaN        S  \n",
            "4  3101298  12.2875   NaN        S  \n"
          ]
        }
      ],
      "source": [
        "import pandas as pd\n",
        "\n",
        "#Loading Dataset\n",
        "\n",
        "df = pd.read_csv('tested.csv')\n",
        "print(df.head())"
      ]
    },
    {
      "cell_type": "code",
      "source": [
        "from sklearn.preprocessing import MinMaxScaler\n",
        "\n",
        "#Normalization using minmaxscaler\n",
        "\n",
        "numeric_columns = ['Age', 'Fare']\n",
        "\n",
        "scaler = MinMaxScaler()\n",
        "\n",
        "df[numeric_columns] = scaler.fit_transform(df[numeric_columns])\n",
        "\n",
        "print(df.head())"
      ],
      "metadata": {
        "colab": {
          "base_uri": "https://localhost:8080/"
        },
        "id": "ZiZFTYSylWog",
        "outputId": "bf1ca82a-c45a-48bf-b13b-72e14c15333d"
      },
      "execution_count": 31,
      "outputs": [
        {
          "output_type": "stream",
          "name": "stdout",
          "text": [
            "   PassengerId  Survived  Pclass  \\\n",
            "0          892         0       3   \n",
            "1          893         1       3   \n",
            "2          894         0       2   \n",
            "3          895         0       3   \n",
            "4          896         1       3   \n",
            "\n",
            "                                           Name     Sex       Age  SibSp  \\\n",
            "0                              Kelly, Mr. James    male  0.452723      0   \n",
            "1              Wilkes, Mrs. James (Ellen Needs)  female  0.617566      1   \n",
            "2                     Myles, Mr. Thomas Francis    male  0.815377      0   \n",
            "3                              Wirz, Mr. Albert    male  0.353818      0   \n",
            "4  Hirvonen, Mrs. Alexander (Helga E Lindqvist)  female  0.287881      1   \n",
            "\n",
            "   Parch   Ticket      Fare Cabin Embarked  \n",
            "0      0   330911  0.015282   NaN        Q  \n",
            "1      0   363272  0.013663   NaN        S  \n",
            "2      0   240276  0.018909   NaN        Q  \n",
            "3      0   315154  0.016908   NaN        S  \n",
            "4      1  3101298  0.023984   NaN        S  \n"
          ]
        }
      ]
    },
    {
      "cell_type": "code",
      "source": [
        "print(df.isnull().sum())\n",
        "\n",
        "#checking null values"
      ],
      "metadata": {
        "colab": {
          "base_uri": "https://localhost:8080/"
        },
        "id": "JEa-hMLCnAT3",
        "outputId": "ac11da00-17d1-437c-b9b2-81fed7492cb5"
      },
      "execution_count": 32,
      "outputs": [
        {
          "output_type": "stream",
          "name": "stdout",
          "text": [
            "PassengerId      0\n",
            "Survived         0\n",
            "Pclass           0\n",
            "Name             0\n",
            "Sex              0\n",
            "Age             86\n",
            "SibSp            0\n",
            "Parch            0\n",
            "Ticket           0\n",
            "Fare             1\n",
            "Cabin          327\n",
            "Embarked         0\n",
            "dtype: int64\n"
          ]
        }
      ]
    },
    {
      "cell_type": "code",
      "source": [
        "df['Age'].fillna(df['Age'].median(), inplace=True)\n",
        "df['Fare'].fillna(df['Fare'].median(), inplace=True)\n",
        "df['Embarked'].fillna(df['Embarked'].mode()[0], inplace=True)\n",
        "print(df.isnull().sum())\n",
        "\n",
        "#Filling median or mean at null places"
      ],
      "metadata": {
        "colab": {
          "base_uri": "https://localhost:8080/"
        },
        "id": "WjqtqAKepOuA",
        "outputId": "cf2142e4-bd3b-4f25-8730-51088211ebb0"
      },
      "execution_count": 33,
      "outputs": [
        {
          "output_type": "stream",
          "name": "stdout",
          "text": [
            "PassengerId      0\n",
            "Survived         0\n",
            "Pclass           0\n",
            "Name             0\n",
            "Sex              0\n",
            "Age              0\n",
            "SibSp            0\n",
            "Parch            0\n",
            "Ticket           0\n",
            "Fare             0\n",
            "Cabin          327\n",
            "Embarked         0\n",
            "dtype: int64\n"
          ]
        },
        {
          "output_type": "stream",
          "name": "stderr",
          "text": [
            "/tmp/ipython-input-33-2809975831.py:1: FutureWarning: A value is trying to be set on a copy of a DataFrame or Series through chained assignment using an inplace method.\n",
            "The behavior will change in pandas 3.0. This inplace method will never work because the intermediate object on which we are setting values always behaves as a copy.\n",
            "\n",
            "For example, when doing 'df[col].method(value, inplace=True)', try using 'df.method({col: value}, inplace=True)' or df[col] = df[col].method(value) instead, to perform the operation inplace on the original object.\n",
            "\n",
            "\n",
            "  df['Age'].fillna(df['Age'].median(), inplace=True)\n",
            "/tmp/ipython-input-33-2809975831.py:2: FutureWarning: A value is trying to be set on a copy of a DataFrame or Series through chained assignment using an inplace method.\n",
            "The behavior will change in pandas 3.0. This inplace method will never work because the intermediate object on which we are setting values always behaves as a copy.\n",
            "\n",
            "For example, when doing 'df[col].method(value, inplace=True)', try using 'df.method({col: value}, inplace=True)' or df[col] = df[col].method(value) instead, to perform the operation inplace on the original object.\n",
            "\n",
            "\n",
            "  df['Fare'].fillna(df['Fare'].median(), inplace=True)\n",
            "/tmp/ipython-input-33-2809975831.py:3: FutureWarning: A value is trying to be set on a copy of a DataFrame or Series through chained assignment using an inplace method.\n",
            "The behavior will change in pandas 3.0. This inplace method will never work because the intermediate object on which we are setting values always behaves as a copy.\n",
            "\n",
            "For example, when doing 'df[col].method(value, inplace=True)', try using 'df.method({col: value}, inplace=True)' or df[col] = df[col].method(value) instead, to perform the operation inplace on the original object.\n",
            "\n",
            "\n",
            "  df['Embarked'].fillna(df['Embarked'].mode()[0], inplace=True)\n"
          ]
        }
      ]
    },
    {
      "cell_type": "code",
      "source": [
        "print(df.dtypes)\n",
        "\n",
        "#datatypes of all columns"
      ],
      "metadata": {
        "colab": {
          "base_uri": "https://localhost:8080/"
        },
        "id": "NawQQJFaqVpQ",
        "outputId": "2ab8875f-0446-4770-853f-948bc869c985"
      },
      "execution_count": 34,
      "outputs": [
        {
          "output_type": "stream",
          "name": "stdout",
          "text": [
            "PassengerId      int64\n",
            "Survived         int64\n",
            "Pclass           int64\n",
            "Name            object\n",
            "Sex             object\n",
            "Age            float64\n",
            "SibSp            int64\n",
            "Parch            int64\n",
            "Ticket          object\n",
            "Fare           float64\n",
            "Cabin           object\n",
            "Embarked        object\n",
            "dtype: object\n"
          ]
        }
      ]
    },
    {
      "cell_type": "code",
      "source": [
        "df = pd.get_dummies(df, columns=['Sex', 'Embarked'], drop_first=True)\n",
        "print(df.head())\n",
        "\n",
        "#one-hot encoding"
      ],
      "metadata": {
        "colab": {
          "base_uri": "https://localhost:8080/"
        },
        "id": "ouwaneRBsF2o",
        "outputId": "c308d6f2-460d-4c6a-cc33-20ba110272df"
      },
      "execution_count": 35,
      "outputs": [
        {
          "output_type": "stream",
          "name": "stdout",
          "text": [
            "   PassengerId  Survived  Pclass  \\\n",
            "0          892         0       3   \n",
            "1          893         1       3   \n",
            "2          894         0       2   \n",
            "3          895         0       3   \n",
            "4          896         1       3   \n",
            "\n",
            "                                           Name       Age  SibSp  Parch  \\\n",
            "0                              Kelly, Mr. James  0.452723      0      0   \n",
            "1              Wilkes, Mrs. James (Ellen Needs)  0.617566      1      0   \n",
            "2                     Myles, Mr. Thomas Francis  0.815377      0      0   \n",
            "3                              Wirz, Mr. Albert  0.353818      0      0   \n",
            "4  Hirvonen, Mrs. Alexander (Helga E Lindqvist)  0.287881      1      1   \n",
            "\n",
            "    Ticket      Fare Cabin  Sex_male  Embarked_Q  Embarked_S  \n",
            "0   330911  0.015282   NaN      True        True       False  \n",
            "1   363272  0.013663   NaN     False       False        True  \n",
            "2   240276  0.018909   NaN      True        True       False  \n",
            "3   315154  0.016908   NaN      True       False        True  \n",
            "4  3101298  0.023984   NaN     False       False        True  \n"
          ]
        }
      ]
    },
    {
      "cell_type": "code",
      "source": [
        "from sklearn.preprocessing import LabelEncoder\n",
        "\n",
        "le = LabelEncoder()\n",
        "\n",
        "df['Name'] = le.fit_transform(df['Name'])\n",
        "df['Ticket'] = le.fit_transform(df['Ticket'])\n",
        "df['Cabin'] = le.fit_transform(df['Cabin'])\n",
        "print(df.head())\n",
        "\n",
        "#label encoding"
      ],
      "metadata": {
        "colab": {
          "base_uri": "https://localhost:8080/"
        },
        "id": "cXp90d56tPIo",
        "outputId": "adee373e-d12e-4054-d7a6-a808eaed0697"
      },
      "execution_count": 36,
      "outputs": [
        {
          "output_type": "stream",
          "name": "stdout",
          "text": [
            "   PassengerId  Survived  Pclass  Name       Age  SibSp  Parch  Ticket  \\\n",
            "0          892         0       3   206  0.452723      0      0     152   \n",
            "1          893         1       3   403  0.617566      1      0     221   \n",
            "2          894         0       2   269  0.815377      0      0      73   \n",
            "3          895         0       3   408  0.353818      0      0     147   \n",
            "4          896         1       3   178  0.287881      1      1     138   \n",
            "\n",
            "       Fare  Cabin  Sex_male  Embarked_Q  Embarked_S  \n",
            "0  0.015282     76      True        True       False  \n",
            "1  0.013663     76     False       False        True  \n",
            "2  0.018909     76      True        True       False  \n",
            "3  0.016908     76      True       False        True  \n",
            "4  0.023984     76     False       False        True  \n"
          ]
        }
      ]
    },
    {
      "cell_type": "code",
      "source": [
        "print(df.dtypes)"
      ],
      "metadata": {
        "colab": {
          "base_uri": "https://localhost:8080/"
        },
        "id": "FSYNLeCKuaTw",
        "outputId": "73f680cb-d47f-4dd5-a4d5-cb539e48379b"
      },
      "execution_count": 37,
      "outputs": [
        {
          "output_type": "stream",
          "name": "stdout",
          "text": [
            "PassengerId      int64\n",
            "Survived         int64\n",
            "Pclass           int64\n",
            "Name             int64\n",
            "Age            float64\n",
            "SibSp            int64\n",
            "Parch            int64\n",
            "Ticket           int64\n",
            "Fare           float64\n",
            "Cabin            int64\n",
            "Sex_male          bool\n",
            "Embarked_Q        bool\n",
            "Embarked_S        bool\n",
            "dtype: object\n"
          ]
        }
      ]
    },
    {
      "cell_type": "code",
      "source": [
        "bool_cols = ['Sex_male', 'Embarked_Q', 'Embarked_S']\n",
        "df[bool_cols] = df[bool_cols].astype(int)\n",
        "\n",
        "#converted boolean to integet (True = 1 and False = 0)"
      ],
      "metadata": {
        "id": "pSIAV96_vSP8"
      },
      "execution_count": 38,
      "outputs": []
    },
    {
      "cell_type": "code",
      "source": [
        "print(df.head())"
      ],
      "metadata": {
        "colab": {
          "base_uri": "https://localhost:8080/"
        },
        "id": "68hvgtBGvW0v",
        "outputId": "00325d2b-8888-48cf-b072-dc9b2683759e"
      },
      "execution_count": 25,
      "outputs": [
        {
          "output_type": "stream",
          "name": "stdout",
          "text": [
            "   PassengerId  Survived  Pclass  Name       Age  SibSp  Parch  Ticket  \\\n",
            "0          892         0       3   206  0.452723      0      0     152   \n",
            "1          893         1       3   403  0.617566      1      0     221   \n",
            "2          894         0       2   269  0.815377      0      0      73   \n",
            "3          895         0       3   408  0.353818      0      0     147   \n",
            "4          896         1       3   178  0.287881      1      1     138   \n",
            "\n",
            "       Fare  Cabin  Sex_male  Embarked_Q  Embarked_S  \n",
            "0  0.015282     76         1           1           0  \n",
            "1  0.013663     76         0           0           1  \n",
            "2  0.018909     76         1           1           0  \n",
            "3  0.016908     76         1           0           1  \n",
            "4  0.023984     76         0           0           1  \n"
          ]
        }
      ]
    },
    {
      "cell_type": "code",
      "source": [
        "print(df.describe())"
      ],
      "metadata": {
        "colab": {
          "base_uri": "https://localhost:8080/"
        },
        "id": "xXjY2v64xdap",
        "outputId": "ab7b26dc-f25e-48df-84af-eecf91f8fa99"
      },
      "execution_count": 39,
      "outputs": [
        {
          "output_type": "stream",
          "name": "stdout",
          "text": [
            "       PassengerId    Survived      Pclass        Name         Age  \\\n",
            "count   418.000000  418.000000  418.000000  418.000000  418.000000   \n",
            "mean   1100.500000    0.363636    2.265550  208.500000    0.388096   \n",
            "std     120.810458    0.481622    0.841838  120.810458    0.167530   \n",
            "min     892.000000    0.000000    1.000000    0.000000    0.000000   \n",
            "25%     996.250000    0.000000    1.000000  104.250000    0.301068   \n",
            "50%    1100.500000    0.000000    3.000000  208.500000    0.353818   \n",
            "75%    1204.750000    1.000000    3.000000  312.750000    0.469207   \n",
            "max    1309.000000    1.000000    3.000000  417.000000    1.000000   \n",
            "\n",
            "            SibSp       Parch      Ticket        Fare       Cabin    Sex_male  \\\n",
            "count  418.000000  418.000000  418.000000  418.000000  418.000000  418.000000   \n",
            "mean     0.447368    0.392344  180.944976    0.069441   67.437799    0.636364   \n",
            "std      0.896760    0.981429  107.533763    0.109012   19.091405    0.481622   \n",
            "min      0.000000    0.000000    0.000000    0.000000    0.000000    0.000000   \n",
            "25%      0.000000    0.000000   85.250000    0.015412   76.000000    0.000000   \n",
            "50%      0.000000    0.000000  181.000000    0.028213   76.000000    1.000000   \n",
            "75%      1.000000    0.000000  279.750000    0.061429   76.000000    1.000000   \n",
            "max      8.000000    9.000000  362.000000    1.000000   76.000000    1.000000   \n",
            "\n",
            "       Embarked_Q  Embarked_S  \n",
            "count  418.000000  418.000000  \n",
            "mean     0.110048    0.645933  \n",
            "std      0.313324    0.478803  \n",
            "min      0.000000    0.000000  \n",
            "25%      0.000000    0.000000  \n",
            "50%      0.000000    1.000000  \n",
            "75%      0.000000    1.000000  \n",
            "max      1.000000    1.000000  \n"
          ]
        }
      ]
    },
    {
      "cell_type": "code",
      "source": [
        "df.drop('Cabin', axis=1, inplace=True)\n",
        "print(df.head())"
      ],
      "metadata": {
        "colab": {
          "base_uri": "https://localhost:8080/"
        },
        "id": "cyoZLfBv01R9",
        "outputId": "909d6736-7514-491d-b8c9-c69bb4767f26"
      },
      "execution_count": 40,
      "outputs": [
        {
          "output_type": "stream",
          "name": "stdout",
          "text": [
            "   PassengerId  Survived  Pclass  Name       Age  SibSp  Parch  Ticket  \\\n",
            "0          892         0       3   206  0.452723      0      0     152   \n",
            "1          893         1       3   403  0.617566      1      0     221   \n",
            "2          894         0       2   269  0.815377      0      0      73   \n",
            "3          895         0       3   408  0.353818      0      0     147   \n",
            "4          896         1       3   178  0.287881      1      1     138   \n",
            "\n",
            "       Fare  Sex_male  Embarked_Q  Embarked_S  \n",
            "0  0.015282         1           1           0  \n",
            "1  0.013663         0           0           1  \n",
            "2  0.018909         1           1           0  \n",
            "3  0.016908         1           0           1  \n",
            "4  0.023984         0           0           1  \n"
          ]
        }
      ]
    },
    {
      "cell_type": "code",
      "source": [
        "import matplotlib.pyplot as plt\n",
        "import seaborn as sns\n",
        "\n",
        "sns.set(style=\"whitegrid\")\n",
        "\n",
        "features = ['Age', 'Fare']\n",
        "\n",
        "for feature in features:\n",
        "    plt.figure(figsize=(12, 5))\n",
        "\n",
        "\n",
        "    plt.subplot(1, 2, 1)\n",
        "    sns.histplot(df[feature], kde=True, bins=30, color='skyblue')\n",
        "    plt.title(f'{feature} Distribution (Histogram)')\n",
        "\n",
        "\n",
        "    plt.subplot(1, 2, 2)\n",
        "    sns.boxplot(x=df[feature], color='salmon')\n",
        "    plt.title(f'{feature} Distribution (Boxplot)')\n",
        "\n",
        "    plt.tight_layout()\n",
        "    plt.show()\n"
      ],
      "metadata": {
        "colab": {
          "base_uri": "https://localhost:8080/",
          "height": 946
        },
        "id": "1BfbBRyp2d2h",
        "outputId": "bf4d22b8-4338-4ebb-a9b8-c2e08c6aba63"
      },
      "execution_count": 42,
      "outputs": [
        {
          "output_type": "display_data",
          "data": {
            "text/plain": [
              "<Figure size 1200x500 with 2 Axes>"
            ],
            "image/png": "[encoded data removed]"
          },
          "metadata": {}
        },
        {
          "output_type": "display_data",
          "data": {
            "text/plain": [
              "<Figure size 1200x500 with 2 Axes>"
            ],
            "image/png": "[encoded data removed]"
          },
          "metadata": {}
        }
      ]
    }
  ]
}